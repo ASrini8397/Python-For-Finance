{
 "cells": [
  {
   "cell_type": "code",
   "execution_count": 90,
   "id": "acc4467a",
   "metadata": {},
   "outputs": [],
   "source": [
    "import pandas as pd\n",
    "import numpy as np\n"
   ]
  },
  {
   "cell_type": "code",
   "execution_count": 91,
   "id": "dbf2f7fb",
   "metadata": {},
   "outputs": [],
   "source": [
    "aapl=pd.read_csv('/Users/apple/Desktop/Python-Finance-QuantConnect/DATA/AAPL.csv', index_col='Date', parse_dates=True)"
   ]
  },
  {
   "cell_type": "code",
   "execution_count": 92,
   "id": "b6014cfb",
   "metadata": {},
   "outputs": [],
   "source": [
    "fb=pd.read_csv('/Users/apple/Desktop/Python-Finance-QuantConnect/DATA/FB.csv', index_col='Date', parse_dates=True)"
   ]
  },
  {
   "cell_type": "code",
   "execution_count": 93,
   "id": "a1ba18f7",
   "metadata": {},
   "outputs": [
    {
     "name": "stdout",
     "output_type": "stream",
     "text": [
      "<class 'pandas.core.frame.DataFrame'>\n",
      "DatetimeIndex: 1258 entries, 2016-09-06 to 2021-09-02\n",
      "Data columns (total 6 columns):\n",
      " #   Column     Non-Null Count  Dtype  \n",
      "---  ------     --------------  -----  \n",
      " 0   Open       1258 non-null   float64\n",
      " 1   High       1258 non-null   float64\n",
      " 2   Low        1258 non-null   float64\n",
      " 3   Close      1258 non-null   float64\n",
      " 4   Adj Close  1258 non-null   float64\n",
      " 5   Volume     1258 non-null   int64  \n",
      "dtypes: float64(5), int64(1)\n",
      "memory usage: 68.8 KB\n",
      "<class 'pandas.core.frame.DataFrame'>\n",
      "DatetimeIndex: 1258 entries, 2016-09-06 to 2021-09-02\n",
      "Data columns (total 6 columns):\n",
      " #   Column     Non-Null Count  Dtype  \n",
      "---  ------     --------------  -----  \n",
      " 0   Open       1258 non-null   float64\n",
      " 1   High       1258 non-null   float64\n",
      " 2   Low        1258 non-null   float64\n",
      " 3   Close      1258 non-null   float64\n",
      " 4   Adj Close  1258 non-null   float64\n",
      " 5   Volume     1258 non-null   int64  \n",
      "dtypes: float64(5), int64(1)\n",
      "memory usage: 68.8 KB\n"
     ]
    }
   ],
   "source": [
    "fb.info()\n",
    "aapl.info()"
   ]
  },
  {
   "cell_type": "code",
   "execution_count": 94,
   "id": "651e5459",
   "metadata": {},
   "outputs": [],
   "source": [
    "aapl['DailyRet']=aapl['Adj Close'].pct_change(1)\n",
    "fb['DailyRet']=fb['Adj Close'].pct_change(1)\n"
   ]
  },
  {
   "cell_type": "code",
   "execution_count": 95,
   "id": "dab80c56",
   "metadata": {},
   "outputs": [],
   "source": [
    "fb=fb.dropna()\n",
    "aapl=aapl.dropna()"
   ]
  },
  {
   "cell_type": "code",
   "execution_count": 96,
   "id": "5c73f1f0",
   "metadata": {},
   "outputs": [
    {
     "data": {
      "text/html": [
       "<div>\n",
       "<style scoped>\n",
       "    .dataframe tbody tr th:only-of-type {\n",
       "        vertical-align: middle;\n",
       "    }\n",
       "\n",
       "    .dataframe tbody tr th {\n",
       "        vertical-align: top;\n",
       "    }\n",
       "\n",
       "    .dataframe thead th {\n",
       "        text-align: right;\n",
       "    }\n",
       "</style>\n",
       "<table border=\"1\" class=\"dataframe\">\n",
       "  <thead>\n",
       "    <tr style=\"text-align: right;\">\n",
       "      <th></th>\n",
       "      <th>Open</th>\n",
       "      <th>High</th>\n",
       "      <th>Low</th>\n",
       "      <th>Close</th>\n",
       "      <th>Adj Close</th>\n",
       "      <th>Volume</th>\n",
       "      <th>DailyRet</th>\n",
       "    </tr>\n",
       "    <tr>\n",
       "      <th>Date</th>\n",
       "      <th></th>\n",
       "      <th></th>\n",
       "      <th></th>\n",
       "      <th></th>\n",
       "      <th></th>\n",
       "      <th></th>\n",
       "      <th></th>\n",
       "    </tr>\n",
       "  </thead>\n",
       "  <tbody>\n",
       "    <tr>\n",
       "      <th>2016-09-07</th>\n",
       "      <td>26.957500</td>\n",
       "      <td>27.190001</td>\n",
       "      <td>26.767500</td>\n",
       "      <td>27.090000</td>\n",
       "      <td>25.406099</td>\n",
       "      <td>169457200</td>\n",
       "      <td>0.006128</td>\n",
       "    </tr>\n",
       "    <tr>\n",
       "      <th>2016-09-08</th>\n",
       "      <td>26.812500</td>\n",
       "      <td>26.817499</td>\n",
       "      <td>26.309999</td>\n",
       "      <td>26.379999</td>\n",
       "      <td>24.740232</td>\n",
       "      <td>212008000</td>\n",
       "      <td>-0.026209</td>\n",
       "    </tr>\n",
       "    <tr>\n",
       "      <th>2016-09-09</th>\n",
       "      <td>26.160000</td>\n",
       "      <td>26.430000</td>\n",
       "      <td>25.782499</td>\n",
       "      <td>25.782499</td>\n",
       "      <td>24.179869</td>\n",
       "      <td>186228000</td>\n",
       "      <td>-0.022650</td>\n",
       "    </tr>\n",
       "    <tr>\n",
       "      <th>2016-09-12</th>\n",
       "      <td>25.662500</td>\n",
       "      <td>26.430000</td>\n",
       "      <td>25.632500</td>\n",
       "      <td>26.360001</td>\n",
       "      <td>24.721476</td>\n",
       "      <td>181171200</td>\n",
       "      <td>0.022399</td>\n",
       "    </tr>\n",
       "    <tr>\n",
       "      <th>2016-09-13</th>\n",
       "      <td>26.877501</td>\n",
       "      <td>27.197500</td>\n",
       "      <td>26.809999</td>\n",
       "      <td>26.987499</td>\n",
       "      <td>25.309967</td>\n",
       "      <td>248704800</td>\n",
       "      <td>0.023805</td>\n",
       "    </tr>\n",
       "    <tr>\n",
       "      <th>...</th>\n",
       "      <td>...</td>\n",
       "      <td>...</td>\n",
       "      <td>...</td>\n",
       "      <td>...</td>\n",
       "      <td>...</td>\n",
       "      <td>...</td>\n",
       "      <td>...</td>\n",
       "    </tr>\n",
       "    <tr>\n",
       "      <th>2021-08-27</th>\n",
       "      <td>147.479996</td>\n",
       "      <td>148.750000</td>\n",
       "      <td>146.830002</td>\n",
       "      <td>148.600006</td>\n",
       "      <td>148.600006</td>\n",
       "      <td>55721500</td>\n",
       "      <td>0.007185</td>\n",
       "    </tr>\n",
       "    <tr>\n",
       "      <th>2021-08-30</th>\n",
       "      <td>149.000000</td>\n",
       "      <td>153.490005</td>\n",
       "      <td>148.610001</td>\n",
       "      <td>153.119995</td>\n",
       "      <td>153.119995</td>\n",
       "      <td>90956700</td>\n",
       "      <td>0.030417</td>\n",
       "    </tr>\n",
       "    <tr>\n",
       "      <th>2021-08-31</th>\n",
       "      <td>152.660004</td>\n",
       "      <td>152.800003</td>\n",
       "      <td>151.289993</td>\n",
       "      <td>151.830002</td>\n",
       "      <td>151.830002</td>\n",
       "      <td>86453100</td>\n",
       "      <td>-0.008425</td>\n",
       "    </tr>\n",
       "    <tr>\n",
       "      <th>2021-09-01</th>\n",
       "      <td>152.830002</td>\n",
       "      <td>154.979996</td>\n",
       "      <td>152.339996</td>\n",
       "      <td>152.509995</td>\n",
       "      <td>152.509995</td>\n",
       "      <td>80313700</td>\n",
       "      <td>0.004479</td>\n",
       "    </tr>\n",
       "    <tr>\n",
       "      <th>2021-09-02</th>\n",
       "      <td>153.869995</td>\n",
       "      <td>154.720001</td>\n",
       "      <td>152.399994</td>\n",
       "      <td>153.649994</td>\n",
       "      <td>153.649994</td>\n",
       "      <td>71171300</td>\n",
       "      <td>0.007475</td>\n",
       "    </tr>\n",
       "  </tbody>\n",
       "</table>\n",
       "<p>1257 rows × 7 columns</p>\n",
       "</div>"
      ],
      "text/plain": [
       "                  Open        High         Low       Close   Adj Close  \\\n",
       "Date                                                                     \n",
       "2016-09-07   26.957500   27.190001   26.767500   27.090000   25.406099   \n",
       "2016-09-08   26.812500   26.817499   26.309999   26.379999   24.740232   \n",
       "2016-09-09   26.160000   26.430000   25.782499   25.782499   24.179869   \n",
       "2016-09-12   25.662500   26.430000   25.632500   26.360001   24.721476   \n",
       "2016-09-13   26.877501   27.197500   26.809999   26.987499   25.309967   \n",
       "...                ...         ...         ...         ...         ...   \n",
       "2021-08-27  147.479996  148.750000  146.830002  148.600006  148.600006   \n",
       "2021-08-30  149.000000  153.490005  148.610001  153.119995  153.119995   \n",
       "2021-08-31  152.660004  152.800003  151.289993  151.830002  151.830002   \n",
       "2021-09-01  152.830002  154.979996  152.339996  152.509995  152.509995   \n",
       "2021-09-02  153.869995  154.720001  152.399994  153.649994  153.649994   \n",
       "\n",
       "               Volume  DailyRet  \n",
       "Date                             \n",
       "2016-09-07  169457200  0.006128  \n",
       "2016-09-08  212008000 -0.026209  \n",
       "2016-09-09  186228000 -0.022650  \n",
       "2016-09-12  181171200  0.022399  \n",
       "2016-09-13  248704800  0.023805  \n",
       "...               ...       ...  \n",
       "2021-08-27   55721500  0.007185  \n",
       "2021-08-30   90956700  0.030417  \n",
       "2021-08-31   86453100 -0.008425  \n",
       "2021-09-01   80313700  0.004479  \n",
       "2021-09-02   71171300  0.007475  \n",
       "\n",
       "[1257 rows x 7 columns]"
      ]
     },
     "execution_count": 96,
     "metadata": {},
     "output_type": "execute_result"
    }
   ],
   "source": [
    "fb\n",
    "aapl"
   ]
  },
  {
   "cell_type": "code",
   "execution_count": 97,
   "id": "dc7b7fee",
   "metadata": {},
   "outputs": [
    {
     "data": {
      "text/plain": [
       "0.019046635958637193"
      ]
     },
     "execution_count": 97,
     "metadata": {},
     "output_type": "execute_result"
    }
   ],
   "source": [
    "aapl['DailyRet'].std()"
   ]
  },
  {
   "cell_type": "code",
   "execution_count": 135,
   "id": "57de690e",
   "metadata": {},
   "outputs": [],
   "source": [
    "def compSR(df, rf=0):\n",
    "    meanRet=df['DailyRet'].mean()\n",
    "    stdDev=df['DailyRet'].std()\n",
    "    SR=((meanRet-rf)/stdDev)\n",
    "    return SR"
   ]
  },
  {
   "cell_type": "code",
   "execution_count": 136,
   "id": "8e563b6d",
   "metadata": {},
   "outputs": [],
   "source": [
    "aaplSR=compSR(aapl)"
   ]
  },
  {
   "cell_type": "code",
   "execution_count": 137,
   "id": "d29cb045",
   "metadata": {},
   "outputs": [
    {
     "data": {
      "text/plain": [
       "0.08500663732501317"
      ]
     },
     "execution_count": 137,
     "metadata": {},
     "output_type": "execute_result"
    }
   ],
   "source": [
    "aaplSR"
   ]
  },
  {
   "cell_type": "code",
   "execution_count": 138,
   "id": "04c01349",
   "metadata": {},
   "outputs": [],
   "source": [
    "fbSR=compSR(fb)"
   ]
  },
  {
   "cell_type": "code",
   "execution_count": 139,
   "id": "bbb111fc",
   "metadata": {},
   "outputs": [
    {
     "data": {
      "text/plain": [
       "0.051462535982218956"
      ]
     },
     "execution_count": 139,
     "metadata": {},
     "output_type": "execute_result"
    }
   ],
   "source": [
    "fbSR"
   ]
  },
  {
   "cell_type": "code",
   "execution_count": 140,
   "id": "e9366a50",
   "metadata": {},
   "outputs": [],
   "source": [
    "def Sortino(df, threshold=0,rf=0.0):\n",
    "    meanRet=df['DailyRet'].mean()\n",
    "    downside_risk=df[df['DailyRet']<threshold]['DailyRet']\n",
    "    stdDev=downside_risk.std()\n",
    "    SortinoRatio=(meanRet-rf)/stdDev\n",
    "    return SortinoRatio* (252**0.5)"
   ]
  },
  {
   "cell_type": "raw",
   "id": "69c8eaf6",
   "metadata": {},
   "source": []
  },
  {
   "cell_type": "code",
   "execution_count": 141,
   "id": "e6b2852b",
   "metadata": {},
   "outputs": [
    {
     "data": {
      "text/plain": [
       "1.7714166312409234"
      ]
     },
     "execution_count": 141,
     "metadata": {},
     "output_type": "execute_result"
    }
   ],
   "source": [
    "aaplSortino=Sortino(aapl)\n",
    "aaplSortino"
   ]
  },
  {
   "cell_type": "code",
   "execution_count": 142,
   "id": "21368624",
   "metadata": {},
   "outputs": [
    {
     "data": {
      "text/plain": [
       "1.033767721917672"
      ]
     },
     "execution_count": 142,
     "metadata": {},
     "output_type": "execute_result"
    }
   ],
   "source": [
    "fbSortino=Sortino(fb)\n",
    "fbSortino"
   ]
  },
  {
   "cell_type": "code",
   "execution_count": 143,
   "id": "34e47be6",
   "metadata": {},
   "outputs": [],
   "source": [
    "import scipy.stats"
   ]
  },
  {
   "cell_type": "code",
   "execution_count": 149,
   "id": "38ad91b0",
   "metadata": {},
   "outputs": [],
   "source": [
    "def PSR(df, benchmark=0):\n",
    "    sr=compSR(df)\n",
    "    skew=scipy.stats.skew(df['DailyRet'])\n",
    "    kurtosis=scipy.stats.kurtosis(df['DailyRet'], fisher=True)\n",
    "    n=len(df)\n",
    "    sigmaSR=( (1/(n-1)) * ( 1+ 0.5 *sr**2  +skew*sr+ (kurtosis/4) *sr**2)  )**0.5\n",
    "    finalr= (sr-benchmark)/sigmaSR\n",
    "    psr=scipy.stats.norm.cdf(finalr)\n",
    "    return psr"
   ]
  },
  {
   "cell_type": "code",
   "execution_count": 150,
   "id": "f7afbfff",
   "metadata": {},
   "outputs": [],
   "source": [
    "aaplPSR=PSR(aapl)"
   ]
  },
  {
   "cell_type": "code",
   "execution_count": 153,
   "id": "4b343175",
   "metadata": {},
   "outputs": [
    {
     "data": {
      "text/plain": [
       "15.853081185964554"
      ]
     },
     "execution_count": 153,
     "metadata": {},
     "output_type": "execute_result"
    }
   ],
   "source": [
    "aaplPSR* (252**.5)"
   ]
  },
  {
   "cell_type": "code",
   "execution_count": 154,
   "id": "6337df14",
   "metadata": {},
   "outputs": [
    {
     "data": {
      "text/plain": [
       "15.360761358206695"
      ]
     },
     "execution_count": 154,
     "metadata": {},
     "output_type": "execute_result"
    }
   ],
   "source": [
    "fbPSR=PSR(fb)\n",
    "fbPSR* (252**.5)"
   ]
  },
  {
   "cell_type": "code",
   "execution_count": null,
   "id": "2b2d3023",
   "metadata": {},
   "outputs": [],
   "source": []
  }
 ],
 "metadata": {
  "kernelspec": {
   "display_name": "Python 3 (ipykernel)",
   "language": "python",
   "name": "python3"
  },
  "language_info": {
   "codemirror_mode": {
    "name": "ipython",
    "version": 3
   },
   "file_extension": ".py",
   "mimetype": "text/x-python",
   "name": "python",
   "nbconvert_exporter": "python",
   "pygments_lexer": "ipython3",
   "version": "3.9.7"
  }
 },
 "nbformat": 4,
 "nbformat_minor": 5
}
